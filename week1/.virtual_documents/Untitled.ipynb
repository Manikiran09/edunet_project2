import os
import random
import shutil
import matplotlib.pyplot as plt
import seaborn as sns
from PIL import Image
from torchvision import transforms
import pandas as pd
from collections import defaultdict




# -------- Paths --------
DATASET_DIR = 'ewaste-dataset'
TRAIN_DIR = os.path.join(DATASET_DIR, 'train')
VAL_DIR = os.path.join(DATASET_DIR, 'val')
TEST_DIR = os.path.join(DATASET_DIR, 'test')
TARGET_COUNT = 500  # Target images per class (for augmentation)


# -------- Helpers --------
def list_classes(base_path):
    return sorted([d for d in os.listdir(base_path) if os.path.isdir(os.path.join(base_path, d))])

def count_images_in_classes(base_path):
    counts = {}
    for cls in list_classes(base_path):
        cls_path = os.path.join(base_path, cls)
        counts[cls] = len([f for f in os.listdir(cls_path) if f.lower().endswith(('jpg', 'jpeg', 'png'))])
    return counts

def remove_corrupted_and_non_images(base_path):
    print(f"Checking for corrupted/non-image files in {base_path}")
    for cls in list_classes(base_path):
        cls_path = os.path.join(base_path, cls)
        for fname in os.listdir(cls_path):
            fpath = os.path.join(cls_path, fname)
            if not fname.lower().endswith(('jpg', 'jpeg', 'png')):
                print(f"Deleting non-image: {fpath}")
                os.remove(fpath)
                continue
            try:
                img = Image.open(fpath)
                img.verify()
            except:
                print(f"Corrupted image removed: {fpath}")
                os.remove(fpath)

def show_class_distribution_barplot(train_stats, val_stats, test_stats):
    df = pd.DataFrame([
        [cls, 'train', count] for cls, count in train_stats.items()
    ] + [
        [cls, 'val', count] for cls, count in val_stats.items()
    ] + [
        [cls, 'test', count] for cls, count in test_stats.items()
    ], columns=['class', 'split', 'count'])

    plt.figure(figsize=(14,6))
    sns.barplot(x='class', y='count', hue='split', data=df)
    plt.title('Class Distribution Across Train/Val/Test')
    plt.xticks(rotation=45)
    plt.tight_layout()
    plt.show()

def show_sample_images(base_path, class_name, n=5):
    class_path = os.path.join(base_path, class_name)
    files = random.sample(os.listdir(class_path), min(n, len(os.listdir(class_path))))
    plt.figure(figsize=(15,3))
    for i, fname in enumerate(files):
        img = Image.open(os.path.join(class_path, fname))
        plt.subplot(1, n, i + 1)
        plt.imshow(img)
        plt.title(f"{class_name}")
        plt.axis('off')
    plt.suptitle(f"Sample images from {class_name} class")
    plt.show()




# -------- Augmentation --------
augmentations = transforms.Compose([
    transforms.RandomHorizontalFlip(p=1.0),
    transforms.RandomRotation(20),
    transforms.ColorJitter(brightness=0.3, contrast=0.3),
    transforms.RandomAffine(degrees=0, translate=(0.1, 0.1)),
])

def augment_class_images(class_path, target_count):
    images = os.listdir(class_path)
    current_count = len(images)
    print(f"Augmenting {class_path}: {current_count} → {target_count}")
    
    while len(os.listdir(class_path)) < target_count:
        img_name = random.choice(images)
        img_path = os.path.join(class_path, img_name)
        try:
            img = Image.open(img_path).convert('RGB')
            aug_img = augmentations(img)
            new_name = f"aug_{random.randint(10000,99999)}_{img_name}"
            aug_img.save(os.path.join(class_path, new_name))
        except Exception as e:
            print(f"Error augmenting {img_name}: {e}")




# -------- Run Wrangling --------

# Step 1: Clean corrupted/non-image files
remove_corrupted_and_non_images(TRAIN_DIR)
remove_corrupted_and_non_images(VAL_DIR)
remove_corrupted_and_non_images(TEST_DIR)



# Step 2: Collect stats
train_stats = count_images_in_classes(TRAIN_DIR)
val_stats = count_images_in_classes(VAL_DIR)
test_stats = count_images_in_classes(TEST_DIR)





# Step 3: Show class distribution
print("Train stats:", train_stats)
print("Val stats:", val_stats)
print("Test stats:", test_stats)
show_class_distribution_barplot(train_stats, val_stats, test_stats)




# Step 4: Show a few samples
example_class = list(train_stats.keys())[0]
show_sample_images(TRAIN_DIR, example_class)




# Step 5: Balance classes via augmentation
for cls in train_stats:
    cls_path = os.path.join(TRAIN_DIR, cls)
    current_count = len(os.listdir(cls_path))
    if current_count < TARGET_COUNT:
        augment_class_images(cls_path, TARGET_COUNT)

# Step 6: Recount stats and re-plot
train_stats_post = count_images_in_classes(TRAIN_DIR)
print("Updated Train stats (after augmentation):", train_stats_post)
show_class_distribution_barplot(train_stats_post, val_stats, test_stats)



